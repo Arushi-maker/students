{
 "cells": [
  {
   "cell_type": "markdown",
   "metadata": {},
   "source": [
    "---\n",
    "toc: true\n",
    "comments: true\n",
    "layout: post\n",
    "title: CollegeBoard\n",
    "description: I took this test as honestly as I could, and here are my corrections.\n",
    "type: tangibles\n",
    "courses: { csp: {week: 9} }\n",
    "---"
   ]
  },
  {
   "cell_type": "markdown",
   "metadata": {},
   "source": [
    "# AP Computer Science Principles: Test Corrections"
   ]
  },
  {
   "cell_type": "markdown",
   "metadata": {},
   "source": [
    "## Question 5\n",
    "The ticket prices at a movie theater are given below.\n",
    "\n",
    "A table is shown with 2 columns and 4 rows. The first row of the table contains the column headers, from left to right, Type of Ticket and Price in dollars. The table is as follows: Regular, 12 Child ages 12 and below, 9 Senior ages 60 and above, 9 Below the table is the text: Additional 5 dollar fee for 3 D movies\n",
    "\n",
    "A programmer is creating an algorithm to set the value of One word, ticket Price based on the information in the table. The programmer uses the integer  variable age for the age of the moviegoer. The Boolean variable One word, is 3 D is true when the movie is 3-D and false otherwise.\n",
    "\n",
    "Which of the following code segments correctly sets the value of One word, ticket Price ?\n",
    "\n",
    "My answer: D\n",
    "\n",
    "**Correct answer:** C because when writing the function, you are looking for what is 3d so that has to be within the code as well.\n",
    "\n",
    "---"
   ]
  },
  {
   "cell_type": "markdown",
   "metadata": {},
   "source": [
    "## Question 7\n",
    "Consider the following program, which uses the variables start, end, and current.\n",
    "\n",
    "The program consists of 7 lines. Begin program Line 1: start, left arrow, 1 Line 2: end, left arrow, 20 Line 3: current, left arrow, 3 Line 4: start, left arrow, current Line 5: current, left arrow, current, plus 1 Line 6: DISPLAY, open parenthesis, start, close parenthesis Line 7: DISPLAY, open parenthesis, current, close parenthesis End program.\n",
    "\n",
    "What is displayed as a result of executing the program?\n",
    "\n",
    "My answer: D\n",
    "\n",
    "**Correct Answer:** D becasue the value 4 is the final value of current, but not the final value of start.\n",
    "\n",
    "---"
   ]
  },
  {
   "cell_type": "markdown",
   "metadata": {},
   "source": [
    "## Question 14\n",
    "Consider the two programs below.\n",
    "\n",
    "Program A: The block code consists of 4 lines. Line 1: i, left arrow, 1 Begin block Line 2: REPEAT UNTIL, begin block, i greater than 10, end block Begin block Line 3, indented 1 tab: DISPLAY, begin block, i, end block Line 4, indented 1 tab: i, left arrow, i plus 1 End block End block\tProgram B: The block code consists of 4 lines. Line 1: i, left arrow, 1 Begin block Line 2: REPEAT UNTIL, begin block, i greater than 10, end block Begin block Line 3, indented 1 tab: i, left arrow, i plus 1 Line 4, indented 1 tab: DISPLAY, begin block, i, end block End block End block\n",
    "Which of the following best compares the values displayed by programs A and B?\n",
    "\n",
    "My answer: D\n",
    "\n",
    "**Correct answer:** C because they both show the same number of values, however the values themselves are different.\n",
    "\n",
    "---"
   ]
  },
  {
   "cell_type": "markdown",
   "metadata": {},
   "source": [
    "## Question 20\n",
    "An application program interface (API) provides a procedure Max, which returns the greater of its two integer arguments.\n",
    "\n",
    "A programmer would like to find the greatest of three integer values a, b, and c. Which of the following expressions will produce the desired result in every case?\n",
    "\n",
    "My answer: C\n",
    "\n",
    "**Correct answer:** A because the expression produces the max of a & c - max of a & b and b & c. All the maximums get calculated.\n",
    "\n",
    "---"
   ]
  },
  {
   "cell_type": "markdown",
   "metadata": {},
   "source": [
    "## Question 22\n",
    "A student is creating a procedure to determine whether the weather for a particular month was considered very hot. The procedure takes as input a list containing daily high temperatures for a particular month. The procedure is intended to return true if the daily high temperature was at least 90 degrees for a majority of days in the month and return false otherwise.\n",
    "\n",
    "The program consists of 14 lines. Begin program Line 1: PROCEDURE, one word Is Hot, open parenthesis, one word temperature List, close parenthesis Line 2: open brace Line 3: total, left arrow, 0 Line 4: counter, left arrow, 0 Line 5: FOR EACH temperature IN, one word temperature List Line 6: open brace Line 7: IF, open parenthesis, temperature is greater than or equal to 90, close parenthesis Line 8: open brace Line 9: counter, left arrow, counter plus 1 Line 10: close brace Line 11: total, left arrow, total plus 1 Line 12: close brace Line 13: RETURN, open parenthesis,  MISSING CODE, close parenthesis Line 14: close brace End program. \n",
    "\n",
    "Which of the following can be used to replace missing code so that the procedure works as intended?\n",
    "\n",
    "My answer: B\n",
    "\n",
    "**Correct answer:** D; boolean expression will always evalutate to true because the number of temperatures will alayws be greater than 50% of temperatures greater than 90.\n",
    "\n",
    "---"
   ]
  },
  {
   "cell_type": "markdown",
   "metadata": {},
   "source": [
    "## Question 23\n",
    "The following figures represent different ways of configuring a network of physically linked computers labeled P, Q, R, and S. A line between two computers indicates that the computers can communicate directly with each other. In which configuration is it NOT possible to have redundant routing between computers P and S?\n",
    "\n",
    "My answer: D\n",
    "\n",
    "**Correct answer:** Look below for defintion of redundant routing.\n",
    "\n",
    "---"
   ]
  },
  {
   "cell_type": "markdown",
   "metadata": {},
   "source": [
    "## Question 24\n",
    "Byte pair encoding is a data encoding technique. The encoding algorithm looks for pairs of characters that appear in the string more than once and replaces each instance of that pair with a corresponding character that does not appear in the string. The algorithm saves a list containing the mapping of character pairs to their corresponding replacement characters.\n",
    "\n",
    "For example, the string Open quotation, THIS, underscore, IS, underscore, THE, underscore, BEST, underscore, WISH, close quotation can be encoded as Open quotation, percent, hash, underscore, hash, underscore, percent E, underscore, BEST, underscore, W, hash, H, close quotation by replacing all instances of Open quotation, T H, close quotation with Open quotation, percent, close quotationand replacing all instances of Open quotation, I S, close quotation with Open quotation, hash, close quotation.\n",
    "\n",
    "Which of the following statements about byte pair encoding is true?\n",
    "\n",
    "My answer: D\n",
    "\n",
    "**Correct answer:** C; part of my answer was right, yes it is lossless, but it is because an encoded string can be restored to the original, not because it can transmit messages securely. \n",
    "\n",
    "---"
   ]
  },
  {
   "cell_type": "markdown",
   "metadata": {},
   "source": [
    "## Question 26\n",
    "The grid below contains a robot represented as a triangle, initially facing up. The robot can move into a white or gray square but cannot move into a black region.\n",
    "\n",
    "The figure shows a grid of squares with 5 columns and 4 rows. The square in the fourth row and first column contains an upward-facing triangle, representing a robot. The first row contains all white squares. The second row contains, left to right, white, black, black, black, white. The third row contains, left to right, white, black, gray, white, white. The fourth row contains, left to right, white, black, black, black, white.\n",
    "\n",
    "The code segment below uses the procedure One word, Goal Reached, which evaluates to true if the robot is in the gray square and evaluates to falseotherwise.\n",
    "\n",
    "The program consists of 4 lines. Begin program Line 1: REPEAT UNTIL, open parenthesis, one word Goal Reached, open parenthesis, close parenthesis, close parenthesis Line 2: open brace Line 3: MISSING CODE Line 4: close brace End program.\n",
    "\n",
    "Which of the following replacements for missing code can be used to move the robot to the gray square?\n",
    "\n",
    "My answer: B (I KNEW IT WAS WRONG I DONT KNOW WHY I ACCIDENTALLY CHOSE IT)\n",
    "\n",
    "Correct answer: A, simple pseudo code, which I KNOW\n",
    "\n",
    "---"
   ]
  },
  {
   "cell_type": "markdown",
   "metadata": {},
   "source": [
    "## Question 28\n",
    "A text-editing application uses binary sequences to represent each of 200 different characters. What is the minimum number of bits needed to assign a unique bit sequence to each of the possible characters?\n",
    "\n",
    "My answer: B\n",
    "\n",
    "**Correct answer:** D, 8 because 6 bits only gives you 64. 2^6 = 64.\n",
    "\n",
    "---"
   ]
  },
  {
   "cell_type": "markdown",
   "metadata": {},
   "source": [
    "## Question 30\n",
    "A video-streaming service maintains a database of information about its customers and the videos they have watched.\n",
    "\n",
    "The program below analyzes the data in the database and compares the number of viewers of science fiction videos to the number of viewers of videos of other genres. It uses the procedure Analysis, open parenthesis, category, close parenthesis , which returns the number of unique users who viewed videos of a given category in the past year. The Analysis procedure takes approximately 1 hour to return a result, regardless of the number of videos of the given genre. All other operations happen nearly instantaneously.\n",
    "\n",
    " \n",
    "\n",
    "The program consists of 9 lines. Begin program Line 1: one word sci Fi Fans, left arrow, Analysis, open parenthesis, open quotation, science fiction, close quotation, close parenthesis Line 2: one word genre List, left arrow, open bracket, open quotation, comedy, close quotation, open quotation, drama, close quotation, open quotation, mystery, close quotation, open quotation, romance, close quotation, close bracket Line 3: FOR EACH genre IN, one word genre List Line 4: open brace Line 5: IF, open parenthesis, Analysis, open parenthesis, genre, close parenthesis, greater than ampersand, one word sci Fi Fans, close parenthesis Line 6: open brace Line 7: DISPLAY, open parenthesis, genre, close parenthesis Line 8: close brace Line 9: close brace End program.\n",
    "Which of the following best approximates the amount of time it takes the program to execute?\n",
    "\n",
    "My answer: C\n",
    "\n",
    "**Correct answer:** D becasue ananlysis is called approx. 5 times.\n",
    "\n",
    "---"
   ]
  },
  {
   "cell_type": "markdown",
   "metadata": {},
   "source": [
    "## Question 36\n",
    "A computer program performs the operation 2 divided by 3 and represents the result as the value 0 point 6 6 6 6 6 6 7. Which of the following best explains this result?\n",
    "\n",
    "My answer: A\n",
    "\n",
    "**Correct answer:** B because overflow errors occur when an arithmetic operation results in a value outside the range, but here the error occurs due to the constraints of using a floating-point representation.\n",
    "\n",
    "---"
   ]
  },
  {
   "cell_type": "markdown",
   "metadata": {},
   "source": [
    "## Question 37\n",
    "The two code segments below are each intended to display the average of the numbers in the list One word, num List. Assume that One word, num List contains more than one value.\n",
    "\n",
    "Program I: The block code consists of 5 lines. Line 1: sum, left arrow, zero Begin block Line 2: FOR EACH num IN num List, 1 word with capital L Begin block Line 3, indented 1 tab: sum, left arrow, sum plus num Line 4, indented 1 tab: a v g, 1 word, left arrow, sum divided by LENGTH, begin block, num List, end block End block End block Line 5: DISPLAY, begin block, a v g, end blockProgram II: The block code consists of 5 lines. Line 1: sum, left arrow, zero Begin block Line 2: FOR EACH num IN num List, 1 word with capital L Begin block Line 3, indented 1 tab: sum, left arrow, sum plus num End block End block Line 4: a v g, 1 word, left arrow, sum divided by LENGTH, begin block, num List, end block Line 5: DISPLAY, begin block, a v g, end block\n",
    "\n",
    "Which of the following best describes the two code segments?\n",
    "\n",
    "My answer: A\n",
    "\n",
    "**Correct answer:** C because both segments display correct average, but segment 1 does require more arithmetic operations.\n",
    "\n",
    "---"
   ]
  },
  {
   "cell_type": "markdown",
   "metadata": {},
   "source": [
    "## Question 44:\n",
    "A computer program uses 4 bits to represent nonnegative integers. Which of the following statements describe a possible result when the program uses this number representation?\n",
    "\n",
    "I. The operation 4 plus 8 will result in an overflow error.\n",
    "\n",
    "II. The operation 7 plus 10 will result in an overflow error.\n",
    "\n",
    "III. The operation 12 plus 3 will result in an overflow error.\n",
    "\n",
    "My answer: C\n",
    "\n",
    "Correct answer: B, the operation 10+7 causes overflow, but not 12+3.\n",
    "\n",
    "---"
   ]
  },
  {
   "cell_type": "markdown",
   "metadata": {},
   "source": [
    "## Question 47:\n",
    "In public key cryptography, the sender uses the recipient’s public key to encrypt a message. Which of the following is needed to decrypt the message?\n",
    "\n",
    "My answer: D\n",
    "\n",
    "Correct answer: C, the recipient's public key cannot decrypt the message, but their private key can.\n",
    "\n",
    "---"
   ]
  },
  {
   "cell_type": "markdown",
   "metadata": {},
   "source": [
    "## Question 48:\n",
    "In a certain science experiment, 7 5 percent of trials are expected to be successful and 2 5 percent of trials are expected to be unsuccessful. The program below is intended to simulate the results of repeated trials of the experiment.\n",
    "\n",
    "The program consists of 17 lines. Begin program Line 1: successful, left arrow, 0 Line 2: unsuccessful, left arrow, 0 Line 3: REPEAT 1000 TIMES Line 4: open brace Line 5: IF, open parenthesis,  MISSING CODE, close parenthesis Line 6: open brace Line 7: successful, left arrow, successful plus 1 Line 8: close brace Line 9: ELSE Line 10: open brace Line 11: unsuccessful, left arrow, unsuccessful plus 1 Line 12: close brace Line 13: close brace Line 14: DISPLAY, open parenthesis, successful, close parenthesis Line 15: DISPLAY, open parenthesis, open quotation, trials were successful comma, close quotation, close parenthesis  Line 16: DISPLAY, open parenthesis, unsuccessful, close parenthesis Line 17: DISPLAY, open parenthesis, open quotation, trials were unsuccessful period, close quotation, close parenthesis End program.\n",
    "\n",
    "Which of the following can be used to replace missing code so that the simulation works as intended?\n",
    "\n",
    "My answer: A\n",
    "\n",
    "**Correct answer:** D (I DONT KNOW HOW THIS HAPPENED EITHER I WAS SURE IT WAS D) experiment requires random(1,100) results in exactly 25 of the time.\n",
    "\n",
    "---"
   ]
  },
  {
   "cell_type": "markdown",
   "metadata": {},
   "source": [
    "## Question 55:\n",
    "A student wrote the procedure below, which is intended to ask whether a user wants to keep playing a game. The procedure does not work as intended.\n",
    "\n",
    "The program consists of 13 lines. Begin program Line 1: PROCEDURE, one word Keep Playing, open parenthesis, close parenthesis Line 2: open brace Line 3: DISPLAY, open parenthesis, open quotation, Do you want to continue playing, open parenthesis, y slash n, close parenthesis, question mark, end quotation, close parenthesis Line 4: response, left arrow, INPUT, open parenthesis, close parenthesis Line 5: IF, open parenthesis, open parenthesis, response equals, open quotation, y, close quotation, close parenthesis, AND, open parenthesis, response equals, open quotation, yes, close quotation, close parenthesis, close parenthesis Line 6: open brace Line 7: RETURN, open parenthesis, true, close parenthesis Line 8: close brace Line 9: ELSE Line 10: open brace Line 11: RETURN, open parenthesis, false, close parenthesis Line 12: close brace Line 13:close brace End program.\n",
    "\n",
    "Which of the following best describes the result of running the procedure?\n",
    "\n",
    "My answer: A\n",
    "\n",
    "Correct answer: (I KNEW THIS ONE TOO). D, the procedure always returns false because of the AND in the If function.\n",
    "\n",
    "---"
   ]
  },
  {
   "cell_type": "markdown",
   "metadata": {},
   "source": [
    "## Question 56:\n",
    "Consider the following program.\n",
    "\n",
    "The block code consists of 6 lines. Line 1: count, left arrow, 1 Line 2: sum, left arrow, zero Begin block Line 3: REPEAT 10 TIMES Begin block Line 4, indented 1 tab: sum, left arrow, sum plus count Line 5, indented 1 tab: count, left arrow, count plus 2 End block End block Line 6: DISPLAY, begin block, sum, end block\n",
    "\n",
    "Which of the following describes the result of executing the program?\n",
    "\n",
    "My asnwer: C\n",
    "\n",
    "Correct answer: D; program goes up to 19 not 9 because repeated 10 times but going + 2 every time.\n",
    "\n",
    "---"
   ]
  },
  {
   "cell_type": "markdown",
   "metadata": {},
   "source": [
    "## Question 66:\n",
    "The procedure Smallest is intended to return the least value in the list numbers. The procedure does not work as intended.\n",
    "\n",
    "The program consists of 12 lines. Begin program Line 1: PROCEDURE Smallest, open parenthesis, numbers, close parenthesis Line 2: open brace Line 3: min, left arrow, numbers, open bracket, 1, close bracket Line 4: FOR EACH number IN numbers Line 5: open brace Line 6: IF, open parenthesis, number is less than min, close parenthesis Line 7: open brace Line 8: RETURN, open parenthesis, number, close parenthesis Line 9: close brace Line 10:close brace Line 11: RETURN, open parenthesis, min, close parenthesis Line 12: close brace End program.\n",
    "\n",
    "For which of the following values of One word, the List will Smallest, open parenthesis, one word, the List, close parenthesis NOT return the intended value?\n",
    "\n",
    "My answer: B and C\n",
    "\n",
    "Correct answer: C and D. B is wrong because in the list 10 is smaller than first number so the procedure returns the correct value, 10.\n",
    "\n",
    "---\n"
   ]
  },
  {
   "cell_type": "markdown",
   "metadata": {},
   "source": [
    "## Google Defintion Search "
   ]
  },
  {
   "cell_type": "markdown",
   "metadata": {},
   "source": [
    "Internet Engineering Task Force: The Internet Engineering Task Force is a organization for the internet and creates the technical standards that make up the Internet protocol suite. \n",
    "\n",
    "---\n",
    "\n",
    "Binary Character Representation: Application uses binary sequences to represent each of 200 different characters.\n",
    "\n",
    "---\n",
    "\n",
    "Creative Commons License: A Creative Commons license is one of several public copyright licenses that enable the free distribution of an otherwise copyrighted \"work.\" A CC license is used when an author wants to give other people the right to share, use, and build upon a work that the author has created.\n",
    "\n",
    "---\n",
    "\n",
    "Open Standards and Protocols: Open standards and protocols allow different manufacturers and developers to build hardware and software that can communicate with hardware and software on the rest of the network.\n",
    "\n",
    "---\n",
    "\n",
    "Internet Protocol Streaming Standards:\n",
    "- Internet protocol version 4 (IPv4) represents each IP address as a 32-bit binary number.\n",
    "- Internet protocol version 6 (IPv6) represents each IP address as a 128-bit binary number. \n",
    "- With 32-bit addressing, IPv4 has 2^32 possible addresses.\n",
    "- With 128-bit addressing, IPv6 has 2^128 possible addresses.\n",
    "\n",
    "---\n",
    "\n",
    "Cloud Computing: Cloud computing is the on-demand availability of computer system resources including data storage; large clouds have functions distributed over multiple locations, each of which is a data center.\n",
    "\n",
    "---\n",
    "\n",
    "Crowdsourcing: Crowdsourcing involves a large group of dispersed participants contributing towards something.\n",
    "\n",
    "---\n",
    "\n",
    "Digital Divide: The digital divide is the unequal access to digital technology; creates a division and inequality around access to information and resources.\n",
    "\n",
    "---\n",
    "\n",
    "NAND Gate: In digital electronics, a NAND gate is a logic gate that produces an output which is false only if all its inputs are true; thus, its output is complementary to that of an AND gate. LOW output results only if all the inputs to the gate are HIGH; if any input is LOW, a HIGH output results.\n",
    "\n",
    "---"
   ]
  }
 ],
 "metadata": {
  "language_info": {
   "name": "python"
  },
  "orig_nbformat": 4
 },
 "nbformat": 4,
 "nbformat_minor": 2
}
