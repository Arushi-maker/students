{
 "cells": [
  {
   "cell_type": "markdown",
   "metadata": {},
   "source": [
    "---\n",
    "layout: post\n",
    "hide: True\n",
    "title: HTML Guide\n",
    "description: An introduction to basic HTML.\n",
    "type: ccc\n",
    "permalink: /basics/html\n",
    "author: Arushi Pandey\n",
    "---"
   ]
  },
  {
   "cell_type": "raw",
   "metadata": {},
   "source": [
    "{% include nav_basics.html %}\n"
   ]
  },
  {
   "cell_type": "markdown",
   "metadata": {},
   "source": [
    "<!-- # Resources\n",
    "- https://www.w3schools.com/html/default.asp\n",
    "- I will show a demo of how to find information on this website -->"
   ]
  },
  {
   "cell_type": "markdown",
   "metadata": {},
   "source": [
    "# HTML Hacks\n",
    " Below is my wireframe for HTML code. A wireframe is a rough visual representation of HTML elements on a page and isn't necessarily to scale or have the exact styling that the final HTML will have. Using the syntax I have learned throughout this class I created an HTML snippet that corresponds to the below wireframe.\n",
    "\n",
    "\n"
   ]
  },
  {
   "cell_type": "code",
   "execution_count": 7,
   "metadata": {
    "vscode": {
     "languageId": "html"
    }
   },
   "outputs": [
    {
     "data": {
      "text/html": [
       "\n",
       "<div>\n",
       "<h3>This is the output #YayCoding </h3>\n",
       "<p>This is an <strong>example</strong> of how I would encorporate basic HTML concepts together in a code cell, that then produces an output below.</p>\n",
       "\n",
       "\n",
       "\n",
       "</div>\n"
      ],
      "text/plain": [
       "<IPython.core.display.HTML object>"
      ]
     },
     "metadata": {},
     "output_type": "display_data"
    }
   ],
   "source": [
    "%%html\n",
    "\n",
    "<div>\n",
    "<h3>This is the output #YayCoding </h3>\n",
    "<p>This is an <strong>example</strong> of how I would encorporate basic HTML concepts together in a code cell, that then produces an output below.</p>\n",
    "\n",
    "\n",
    "\n",
    "</div>"
   ]
  },
  {
   "cell_type": "code",
   "execution_count": 28,
   "metadata": {
    "vscode": {
     "languageId": "html"
    }
   },
   "outputs": [
    {
     "data": {
      "text/html": [
       "\n",
       "<div>\n",
       "<h1>Model WireFrame</h1>\n",
       "<h2>Insert SubHeading</h2>\n",
       "<p1>Insert Paragraph 1</p1>\n",
       "<h2>Insert Heading </h2>\n",
       "<p2>More: </p2>\n",
       "<button>Insert Button Text</button>\n",
       "<p1>Random other features (not part of layout). This is a line break <br> and this is how to <strong>bold text</strong>. </p1>\n",
       "</div>\n"
      ],
      "text/plain": [
       "<IPython.core.display.HTML object>"
      ]
     },
     "metadata": {},
     "output_type": "display_data"
    }
   ],
   "source": [
    "\n",
    "%%html\n",
    "\n",
    "<div>\n",
    "<h1>Model WireFrame</h1>\n",
    "<h2>Insert SubHeading</h2>\n",
    "<p1>Insert Paragraph 1</p1>\n",
    "<h2>Insert Heading </h2>\n",
    "<p2>More: </p2>\n",
    "<button>Insert Button Text</button>\n",
    "<p1>Random other features (not part of layout). This is a line break <br> and this is how to <strong>bold text</strong>. </p1>\n",
    "</div>\n"
   ]
  }
 ],
 "metadata": {
  "kernelspec": {
   "display_name": "Python 3",
   "language": "python",
   "name": "python3"
  },
  "language_info": {
   "codemirror_mode": {
    "name": "ipython",
    "version": 3
   },
   "file_extension": ".py",
   "mimetype": "text/x-python",
   "name": "python",
   "nbconvert_exporter": "python",
   "pygments_lexer": "ipython3",
   "version": "3.11.4"
  },
  "orig_nbformat": 4
 },
 "nbformat": 4,
 "nbformat_minor": 2
}
