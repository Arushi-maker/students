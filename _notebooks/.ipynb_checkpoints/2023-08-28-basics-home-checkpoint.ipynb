{
 "cells": [
  {
   "cell_type": "markdown",
   "metadata": {},
   "source": [
    "---\n",
    "layout: post\n",
    "title: Web Programming :)\n",
    "description: Here I display the intro topics for web programming. This includes HTML, JavaScrpit, Data Types and more.\n",
    "courses: { csp: {week: 5} }\n",
    "type: hacks\n",
    "permalink: /basics/home\n",
    "author: Arushi Pandey\n",
    "---"
   ]
  },
  {
   "cell_type": "markdown",
   "metadata": {},
   "source": []
  },
  {
   "cell_type": "raw",
   "metadata": {},
   "source": [
    "{% include nav_basics.html %}\n"
   ]
  },
  {
   "cell_type": "raw",
   "metadata": {},
   "source": []
  },
  {
   "cell_type": "markdown",
   "metadata": {},
   "source": [
    "\n",
    "# THE BASICS!\n",
    "- Create a fun/useful menu\n",
    "- Make your own custom page and menu\n",
    "- Making a page dynamic through JavaScript\n",
    "- Review usage of Styles in GitHub Pages\n",
    "\n",
    "Enjoy the following pages >>>>>>>>>>>>>>>>>>>>>>>>>>>>>>>>>>>>>>>>>>>>>>>>>>>"
   ]
  }
 ],
 "metadata": {
  "kernelspec": {
   "display_name": "Python 3",
   "language": "python",
   "name": "python3"
  },
  "language_info": {
   "name": "python",
   "version": "3.9.12"
  },
  "orig_nbformat": 4
 },
 "nbformat": 4,
 "nbformat_minor": 2
}
