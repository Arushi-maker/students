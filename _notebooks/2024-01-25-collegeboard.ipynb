{
 "cells": [
  {
   "cell_type": "markdown",
   "metadata": {},
   "source": [
    "---\n",
    "toc: true\n",
    "comments: true\n",
    "layout: post\n",
    "title: Collegeboard Missed Questions\n",
    "courses: { compsci: {week: 20} }\n",
    "type: hacks\n",
    "---"
   ]
  },
  {
   "cell_type": "markdown",
   "metadata": {},
   "source": [
    "# <font color = \"FFC0CB\"> Collegeboard Corrections </font>\n",
    "\n",
    "### <mark>Q5. For which of the following input values will the circuit have an output of true ?</mark>\n",
    "The figure presents a circuit composed of three logic gates. The first gate is labeled OR and has inputs A and B. The second gate is labeled AND, and has inputs C and D. The third gate is labeled AND. The inputs to the third gate are the outputs of the first two gates. The output of the circuit is labeled output.\n",
    "\n",
    "Why? B is incorrect. With these inputs, the OR gate will produce an output of true and the first AND gate will produce an output of false. Since only one input to the second AND gate will be true, the circuit will have an output of false.\n",
    "\n",
    "### <mark>Q11. According to information in the table, what color is represented by the binary RGB triplet (11111111, 11111111, 11110000)?</mark> \n",
    "A color in a computing application is represented by an RGB triplet that describes the amount of red, green, and blue, respectively, used to create the desired color. A selection of colors and their corresponding RGB triplets are shown in the following table. Each value is represented in decimal (base 10).\n",
    "\n",
    "Why? B is incorrect. The binary RGB triplet for light yellow is (11111111, 11111111, 11100000).\n",
    "\n",
    "### <mark>Q17. Which of the following can be represented by a sequence of bits?An integer.An alphanumeric character. A machine language instruction</mark> \n",
    "\n",
    "Why? C is incorrect. At the lowest level, all digital data (including machine language instructions) are represented with sequences of bits.\n",
    "\n",
    "### <mark>Q23. Which of the following statements is equivalent to the algorithm in the flowchart?</mark> \n",
    "A flowchart is a way to visually represent an algorithm. The flowchart below is used by an application to set the Boolean variable available to true under certain conditions. The flowchart uses the Boolean variable weekday and the integer variable miles.\n",
    "\n",
    "Block\tExplanation\n",
    "Oval\tThe start or end of the algorithm\n",
    "Diamond\tA conditional or decision step, where execution proceeds to the side labeled true if the condition is true and to the side labeled false otherwise\n",
    "Rectangle\tOne or more processing steps, such as a statement that assigns a value to a variable\n",
    "\n",
    "Why? B is incorrect. This expression would be equivalent to an algorithm that sets available to true whenever weekday is true and miles is at least 20. The algorithm in the flowchart requires both conditions to be true in order to set available to true.\n",
    "\n",
    "### <mark>Q24. Which of the following describes the result of executing the program?</mark> \n",
    "\n",
    "Why? C is incorrect. The value of val starts at 0 and is repeatedly incremented by 2, so it counts even integers, not odd integers.\n",
    "\n",
    "### <mark>Q32. Which of the following can be used to calculate a student’s course grade and store the result in the variable finalGrade?</mark> \n",
    "A student’s overall course grade in a certain class is based on the student’s scores on individual assignments. The course grade is calculated by dropping the student’s lowest individual assignment score and averaging the remaining scores.\n",
    "\n",
    "A programmer is writing a program to calculate a student’s course grade using the process described. The programmer has the following procedures available.\n",
    "\n",
    "Why? C is incorrect. This code segment subtracts the lowest score from the sum. It erroneously divides this result by the number of scores rather than one less than the number of scores.\n",
    "\n",
    "### <mark>Q58. For which of the following procedure calls does the procedure NOT return the intended value?</mark> \n",
    "The following procedure is intended to return true if at least two of the three parameters are equal in value and is intended to return false otherwise.\n",
    "\n",
    "Why? A is incorrect. For this set of inputs, the IF condition x = y evaluates to false, so the body of the ELSE statement is executed. The expression y = z evaluates to false, so false is returned as intended.\n"
   ]
  }
 ],
 "metadata": {
  "language_info": {
   "name": "python"
  },
  "orig_nbformat": 4
 },
 "nbformat": 4,
 "nbformat_minor": 2
}
