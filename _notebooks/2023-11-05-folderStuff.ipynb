{
 "cells": [
  {
   "cell_type": "markdown",
   "metadata": {},
   "source": [
    " ## Quote of the Day!\n",
    "<mark>\"This will all make perfect sense one day!\" <mark> \n",
    "\n",
    "## Hobbies/Schedule:\n",
    "- Playing and Creating Music \n",
    "- Water Polo and Swim for HS\n",
    "- Volunteering \n",
    "- Trying New Things\n",
    "- Shopping\n",
    "- Watching Netflix and Youtube\n",
    "- Spending time with Friends and Family\n",
    "\n",
    " |              My School Schedule:      \n",
    "| Period 1: Intro to Finance 1|\n",
    "| Period 2: AP Computer Science|\n",
    "| Period 3: AP Chemistry|\n",
    "| Period 4: Honors Humanities 1|\n",
    "| Period 5: AP Calculus 1| -->\n",
    "\n",
    "\n",
    " I love my tools! VsCode is my bestfriend it helps me write amazing codes and helped me help you reach this blog. I love my other tools, such as GitHub. GitHub helps me store and manage my code!\n",
    "\n",
    "## Drawing of My Life:\n",
    "\n",
    "<img src=\"images/IMG_3595.jpg\" alt = \"drawing\" width=\"200\">\n",
    "\n",
    "\n",
    "![gif](air.gif) "
   ]
  }
 ],
 "metadata": {
  "language_info": {
   "name": "python"
  },
  "orig_nbformat": 4
 },
 "nbformat": 4,
 "nbformat_minor": 2
}
