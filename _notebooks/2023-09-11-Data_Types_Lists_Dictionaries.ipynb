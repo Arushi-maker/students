{
 "cells": [
  {
   "cell_type": "markdown",
   "metadata": {},
   "source": [
    "---\n",
    "toc: true\n",
    "comments: false\n",
    "layout: post\n",
    "title: Python Lists/Data Types/Dictionaries\n",
    "type: hacks\n",
    "courses: { csp: {week: 4} }\n",
    "---"
   ]
  },
  {
   "cell_type": "markdown",
   "metadata": {},
   "source": [
    "### InfoDB"
   ]
  },
  {
   "cell_type": "code",
   "execution_count": 1,
   "metadata": {},
   "outputs": [
    {
     "name": "stdout",
     "output_type": "stream",
     "text": [
      "[{'FirstName': 'Arushi', 'LastName': 'Pandey', 'DOB': 'August 25', 'Residence': 'San Diego, California', 'Email': 'arupan2008@gmail.com'}, {'FirstName': 'Mary', 'LastName': 'Jane', 'DOB': 'March 11', 'Residence': 'Christmas Lane, North Pole', 'Email': 'maryloveschristmas.sd@gmail.com'}, {'FirstName': 'Billy', 'LastName': 'Bob', 'DOB': 'November 27', 'Residence': 'Macon, Georgia', 'Email': 'farmlifeland@gmail.com'}]\n"
     ]
    }
   ],
   "source": [
    "# Define an empty List called InfoDb\n",
    "InfoDb = []\n",
    "\n",
    "# InfoDB is a data structure with expected Keys and Values\n",
    "\n",
    "# Append to List a Dictionary of key/values related to a person and cars\n",
    "InfoDb.append({\n",
    "    \"FirstName\": \"Arushi\",\n",
    "    \"LastName\": \"Pandey\",\n",
    "    \"DOB\": \"August 25\",\n",
    "    \"Residence\": \"San Diego, California\",\n",
    "    \"Email\": \"arupan2008@gmail.com\",\n",
    "})\n",
    "\n",
    "# Append to List a 2nd Dictionary of key/values\n",
    "InfoDb.append({\n",
    "    \"FirstName\": \"Mary\",\n",
    "    \"LastName\": \"Jane\",\n",
    "    \"DOB\": \"March 11\",\n",
    "    \"Residence\": \"Christmas Lane, North Pole\",\n",
    "    \"Email\": \"maryloveschristmas.sd@gmail.com\",\n",
    "})\n",
    "\n",
    "# Append to List a 2nd Dictionary of key/values\n",
    "InfoDb.append({\n",
    "    \"FirstName\": \"Billy\",\n",
    "    \"LastName\": \"Bob\",\n",
    "    \"DOB\": \"November 27\",\n",
    "    \"Residence\": \"Macon, Georgia\",\n",
    "    \"Email\": \"farmlifeland@gmail.com\",\n",
    "})\n",
    "\n",
    "# Print the data structure\n",
    "print(InfoDb)\n"
   ]
  },
  {
   "cell_type": "markdown",
   "metadata": {},
   "source": [
    "<hr style=\"solid\">\n",
    "\n",
    "### Pair Share Code"
   ]
  },
  {
   "cell_type": "code",
   "execution_count": 3,
   "metadata": {},
   "outputs": [
    {
     "name": "stdout",
     "output_type": "stream",
     "text": [
      "> Jesse Wilson:\n",
      "| DOB: July 2\n",
      "| Residence: Rockville, Maryland\n",
      "| Email: jessewilson@yahoo.com\n",
      "\n"
     ]
    }
   ],
   "source": [
    "# Define an empty List called database\n",
    "database = []\n",
    "\n",
    "profileCount = input(\"How many profiles to add?\") # profiles to add\n",
    "\n",
    "for i in range(int(profileCount)): # iterate thru num of profiles to add\n",
    "    # data collection\n",
    "    firstName = input(\"First name: \")\n",
    "    lastName = input(\"Last name: \")\n",
    "    dob = input(\"Date of birth: \")\n",
    "    residence = input(\"Residence: \")\n",
    "    email = input(\"Email: \")\n",
    "    \n",
    "    # appending data\n",
    "    database.append({\n",
    "        firstName: firstName,\n",
    "        lastName: lastName,\n",
    "        dob: dob,\n",
    "        residence: residence,\n",
    "        email: email,\n",
    "    })\n",
    "\n",
    "for i in range(int(profileCount)): # iterate thru num of profiles available\n",
    "    # printing everything\n",
    "    print(\"> \" + database[i][firstName] + \" \" + database[i][lastName] + \":\")\n",
    "    print(\"| DOB: \" + database[i][dob])\n",
    "    print(\"| Residence: \" + database[i][residence])\n",
    "    print(\"| Email: \" + database[i][email])\n",
    "    print()"
   ]
  }
 ],
 "metadata": {
  "kernelspec": {
   "display_name": "Python 3",
   "language": "python",
   "name": "python3"
  },
  "language_info": {
   "codemirror_mode": {
    "name": "ipython",
    "version": 3
   },
   "file_extension": ".py",
   "mimetype": "text/x-python",
   "name": "python",
   "nbconvert_exporter": "python",
   "pygments_lexer": "ipython3",
   "version": "3.11.7"
  },
  "orig_nbformat": 4
 },
 "nbformat": 4,
 "nbformat_minor": 2
}
