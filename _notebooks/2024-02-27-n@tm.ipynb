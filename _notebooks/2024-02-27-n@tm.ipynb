{
 "cells": [
  {
   "cell_type": "markdown",
   "metadata": {},
   "source": [
    "---\n",
    "toc: True\n",
    "comments: False\n",
    "layout: post\n",
    "title: N@TM Reflection\n",
    "description: Blog about the fun event!\n",
    "type: tangibles\n",
    "courses: {'csp': {'week': 10}}\n",
    "---"
   ]
  },
  {
   "cell_type": "markdown",
   "metadata": {},
   "source": [
    "# N@TM Reflection Blog\n",
    "\n",
    "## Reflection:\n",
    "\n",
    "# Glows:\n",
    "    - During our presentation, we had a bunch of people come and play around with many features. \n",
    "    The favorite was the posts where users could come and post something and then fetch from the \n",
    "    backend to see other people's posts. A lot of people also liked the concept of our idea to have a \n",
    "    mental health related site. \n",
    "\n",
    "\n",
    "\n",
    "\n",
    "\n",
    "\n",
    "# Grows: \n",
    "    - For our daily logs page where users can get a diagnosis, the replies generated slowly. \n",
    "    Also, our theme could have been more intriguing with more color.\n",
    "\n",
    "# Pictures of other teams projects I saw:\n",
    "\n",
    "![IMG_3628.png](<img:IMG_3628.png>)\n",
    "\n",
    "\n"
   ]
  }
 ],
 "metadata": {
  "language_info": {
   "name": "python"
  },
  "orig_nbformat": 4
 },
 "nbformat": 4,
 "nbformat_minor": 2
}
