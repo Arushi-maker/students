{
 "cells": [
  {
   "cell_type": "markdown",
   "metadata": {},
   "source": [
    "---\n",
    "toc: True\n",
    "comments: False\n",
    "layout: post\n",
    "title: About Me\n",
    "type: tangibles\n",
    "courses: {'csp': {'week': 10}}\n",
    "---"
   ]
  },
  {
   "cell_type": "markdown",
   "metadata": {},
   "source": [
    "## Quote of the Day!\n",
    "<mark>\"This will all make perfect sense one day!\" <mark> \n",
    "\n",
    "## Hobbies/Schedule:\n",
    "- Playing and Creating Music \n",
    "- Water Polo and Swim for HS\n",
    "- Volunteering \n",
    "- Trying New Things\n",
    "- Shopping\n",
    "- Watching Netflix and Youtube\n",
    "- Spending time with Friends and Family\n",
    "\n",
    " |              My School Schedule:      \n",
    "| Period 1: Intro to Finance 1|\n",
    "| Period 2: AP Computer Science|\n",
    "| Period 3: AP Chemistry|\n",
    "| Period 4: Honors Humanities 1|\n",
    "| Period 5: AP Calculus 1| -->\n",
    "\n",
    "<img src=\"images/IMG_3595.jpg\" alt = \"drawing\" width=\"200\">"
   ]
  }
 ],
 "metadata": {
  "language_info": {
   "name": "python"
  },
  "orig_nbformat": 4
 },
 "nbformat": 4,
 "nbformat_minor": 2
}
