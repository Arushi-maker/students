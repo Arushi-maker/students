{
 "cells": [
  {
   "cell_type": "markdown",
   "metadata": {},
   "source": [
    "---\n",
    "comments: true\n",
    "layout: post\n",
    "title: Data Structure Write Up\n",
    "description: This is a pre-requisite prior to answering the college board questions that have been posted to AP Classroom.\n",
    "type: hacks\n",
    "courses: { csp: {week: 10} }\n",
    "---"
   ]
  },
  {
   "cell_type": "markdown",
   "metadata": {},
   "source": [
    "----------------------------------------------------------------------\n",
    "1) Blog Python Model code and SQLite Database.\n",
    "\n",
    "- From VSCode using SQLite3 Editor, show your unique collection/table in database, display rows and columns in the table of the SQLite database.\n",
    "This database basically stores messages users write in the journal feature of my group's old CPT project, which we integrated with the Trimester 3 project. \n",
    "![Image](https://github.com/nighthawkcoders/teacher_portfolio/assets/75818107/8b8b0108-77e1-41e6-b634-b9929f33cfeb)\n",
    "\n",
    "\n",
    "\n",
    "- From VSCode model, show your unique code that was created to initialize table and create test data.\n",
    "The table above was created from journal-messages. The function journal-messages includes what is shown below. This code collects the users responses and then stores it in the sqlite database found at journal-messages.\n",
    "![Image](https://github.com/nighthawkcoders/teacher_portfolio/assets/75818107/6fa85e71-7302-4a26-964f-1894eed01584)\n",
    "\n",
    "\n",
    "2) Blog Python API code and use of List and Dictionaries.\n",
    "\n",
    "- In VSCode using Debugger, show a list as extracted from database as Python objects.\n",
    "\n",
    "\n",
    "- In VSCode use Debugger and list, show two distinct example examples of dictionaries, show Keys/Values using debugger.\n",
    "\n",
    "\n",
    "3) Blog Python API code and use of Postman to request and respond with JSON.\n",
    "\n",
    "- In VSCode, show Python API code definition for request and response using GET, POST, UPDATE methods. Discuss algorithmic condition used to direct request to appropriate Python method based on request method.\n",
    "\n",
    "\n",
    "- In VSCode, show algorithmic conditions used to validate data on a POST condition.\n",
    "\n",
    "- In Postman, show URL request and Body requirements for GET, POST, and UPDATE methods.\n",
    "\n",
    "- In Postman, show the JSON response data for 200 success conditions on GET, POST, and UPDATE methods.\n",
    "\n",
    "- In Postman, show the JSON response for error for 400 when missing body on a POST request.\n",
    "\n",
    "- In Postman, show the JSON response for error for 404 when providing an unknown user ID to a UPDATE request.\n",
    "\n",
    "\n",
    "Frontend\n",
    "\n",
    "Blog JavaScript API fetch code and formatting code to display JSON.\n",
    "\n",
    "In Chrome inspect, show response of JSON objects from fetch of GET, POST, and UPDATE methods.\n",
    "In the Chrome browser, show a demo (GET) of obtaining an Array of JSON objects that are formatted into the browsers screen.\n",
    "In JavaScript code, describe fetch and method that obtained the Array of JSON objects.\n",
    "In JavaScript code, show code that performs iteration and formatting of data into HTML.\n",
    "In the Chrome browser, show a demo (POST or UPDATE) gathering and sending input and receiving a response that show update. Repeat this demo showing both success and failure.\n",
    "In JavaScript code, show and describe code that handles success. Describe how code shows success to the user in the Chrome Browser screen.\n",
    "In JavaScript code, show and describe code that handles failure. Describe how the code shows failure to the user in the Chrome Browser screen.\n",
    "Optional/Extra, Algorithm Analysis\n",
    "\n",
    "In the ML projects, there is a great deal of algorithm analysis. Think about preparing data and predictions.\n",
    "\n",
    "Show algorithms and preparation of data for analysis. This includes cleaning, encoding, and one-hot encoding.\n",
    "Show algorithms and preparation for predictions.\n",
    "Discuss concepts and understanding of Linear Regression algorithms.\n",
    "Discuss concepts and understanding of Decision Tree analysis algorithms."
   ]
  }
 ],
 "metadata": {
  "language_info": {
   "name": "python"
  },
  "orig_nbformat": 4
 },
 "nbformat": 4,
 "nbformat_minor": 2
}
