{
 "cells": [
  {
   "cell_type": "markdown",
   "metadata": {},
   "source": [
    "---\n",
    "toc: True\n",
    "comments: False\n",
    "layout: post\n",
    "title: Individual Review\n",
    "type: tangibles\n",
    "courses: {'csp': {'week': 10}}\n",
    "---"
   ]
  },
  {
   "cell_type": "markdown",
   "metadata": {},
   "source": [
    "----------------------------------------------------------------------------\n",
    "\n",
    "## What has my trimester has looked like?\n",
    "\n",
    "I started off learning how to use our tools such as VsCode and completed all installations. Then, moving forward I was able to implement more HTML and CSS code to make my home page look more creative. \n",
    "\n",
    "An example of this is how learned how to add **Bolded Words!**\n"
   ]
  },
  {
   "cell_type": "markdown",
   "metadata": {},
   "source": [
    "----------------------------------------------------------------------------\n",
    "\n",
    "## What has my trimester has looked like?\n",
    "\n",
    "I started off learning how to use our tools such as VsCode and completed all installations. Then, moving forward I was able to implement more HTML and CSS code to make my home page look more creative. \n",
    "\n",
    "An example of this is how learned how to add **Bolded Words!**\n"
   ]
  }
 ],
 "metadata": {
  "language_info": {
   "name": "python"
  },
  "orig_nbformat": 4
 },
 "nbformat": 4,
 "nbformat_minor": 2
}
