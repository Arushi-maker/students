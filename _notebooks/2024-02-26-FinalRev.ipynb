{
 "cells": [
  {
   "cell_type": "markdown",
   "metadata": {},
   "source": [
    "---\n",
    "toc: True\n",
    "comments: False\n",
    "layout: post\n",
    "title: Individual Review TRI 2\n",
    "type: tangibles\n",
    "courses: {'csp': {'week': 10}}\n",
    "---"
   ]
  },
  {
   "cell_type": "markdown",
   "metadata": {},
   "source": [
    "# Individual Review\n",
    "\n",
    "### CPT Project Overview \n",
    "\n",
    "The main focus of our website is to analyze the mental state of users and help them release stress using some simple small games and journaling. Some features within the site include a zen garden (imitation of bubble popping), a breathe feature, a memory game, a daily log, a mental health questionare, 2048 game, ping pong game, and blog posts. Some of these incorporate real diagnosis such as the daily log and blog posts.\n",
    "\n",
    "### Individual Features\n",
    "\n",
    "I worked on the introduction to the team mental health website. This includes the basic transition and animation in the html.\n",
    "\n",
    "<img width=\"377\" alt=\"Screen Shot 2024-02-26 at 2 28 46 PM\" src=\"https://github.com/Arushi-maker/students/assets/75818107/bd15c042-419c-495a-9eef-e815fd0c071d\">\n",
    "\n",
    "One of the main features I worked on in the website was the Ping Pong game, written in Javascript. This game is supposed to release anxiety and give a sense of fullfillment.\n",
    "\n",
    "<img width=\"297\" alt=\"Screen Shot 2024-02-26 at 3 16 34 PM\" src=\"https://github.com/Arushi-maker/students/assets/75818107/9dd186ff-e961-45bc-93a7-6c66ac44b83c\">\n",
    "\n",
    "This screenshot displays the main loop in my code where the paddles are given velocity so that they can move up and down using the keys. Then, use an if else to ensure that the paddles won't go past the wall. \n",
    "\n",
    "Lastly, I worked with my teammate on Daily Logs. This is where users can type in how they feel and get a diagnosis. The response is generated using ChatGPT.\n",
    "\n",
    "<img width=\"244\" alt=\"Screen Shot 2024-02-27 at 1 19 18 PM\" src=\"https://github.com/Arushi-maker/students/assets/75818107/7aa46427-bca6-495b-9f81-1efead9c6ddf\">\n",
    "\n",
    "<img width=\"256\" alt=\"Screen Shot 2024-02-27 at 1 20 12 PM\" src=\"https://github.com/Arushi-maker/students/assets/75818107/57f9ca96-05e9-4eac-b827-fa1308cacdca\">\n",
    "\n",
    "The images above are a few images of what the daily log looks like and the code where we fetch from the backend.\n",
    "\n",
    "### College Board Requirements\n",
    "\n",
    "I followed some of the college board big ideas which are:\n",
    "\n",
    " 1. Creative development\n",
    " 2. Data\n",
    " 3. Algorithms and Programing\n",
    " 4. Computer Systems\n",
    " 5. Impact of Computing\n",
    "\n",
    "I will be going through each of them and how they are tied into our project. I also went through a couple collegeboard units to create this project this trimester including Big Idea 1, Big Idea 2, and Big Idea 3.\n",
    "\n",
    "(USING THE MAIN IDEAS OF THESE UNITS TIE IT INTO YOUR PROJECT AND SHOWCASE SOME CODE THT HAS TO DO WITH IT)\n",
    "\n",
    "### Video\n",
    "\n",
    "\n",
    "\n",
    "### Pull Requests \n",
    "\n",
    "link to pull requests\n"
   ]
  }
 ],
 "metadata": {
  "language_info": {
   "name": "python"
  },
  "orig_nbformat": 4
 },
 "nbformat": 4,
 "nbformat_minor": 2
}
