{
 "cells": [
  {
   "cell_type": "markdown",
   "metadata": {},
   "source": [
    "---\n",
    "toc: True\n",
    "comments: True\n",
    "layout: post\n",
    "title: CPT Review\n",
    "courses: {'compsci': {'week': 20}}\n",
    "type: hacks\n",
    "---"
   ]
  },
  {
   "cell_type": "markdown",
   "metadata": {},
   "source": [
    "# Individual Review\n",
    "\n",
    "### CPT Project Overview \n",
    "\n",
    "The main focus of our website is to release stress of students using some simple small games and blogging. Some games include: a zen raking game, ping pong, ect. >>> (ADD STUFF HERE)\n",
    "\n",
    "### Individual Features\n",
    "\n",
    "I worked on the introduction to the team mental health website. This includes the basic transition and animation in the html\n",
    "\n",
    "<img width=\"377\" alt=\"Screen Shot 2024-02-26 at 2 28 46 PM\" src=\"https://github.com/Arushi-maker/students/assets/75818107/bd15c042-419c-495a-9eef-e815fd0c071d\">\n",
    "\n",
    "One of the main features I worked on the pingpong game in Javascript. This game is supposed to release anxiety\n",
    "\n",
    "(ADD SCREENSHOT OF CODE HEERE AND RUNTIME)\n",
    "\n",
    "### College Board Requirements\n",
    "\n",
    "I followed some of the college board big ideas which are:\n",
    "\n",
    " 1. Creative development\n",
    " 2. Data\n",
    " 3. Algorithms and Programing\n",
    " 4. Computer Systems\n",
    " 5. Impact of Computing\n",
    "\n",
    "I will be going through each of them and how they are tied into our project. I also went through a couple collegeboard units to create this projec tthis trimester including Unit 3, Unit 4, Unit 5, unit 6, Unit 7, and Unit 9\n",
    "\n",
    "(USING THE MAIN IDEAS OF THESE UNITS TIE IT INTO YOUR PROJECT AND SHOWCASE SOME CODE THT HAS TO DO WITH IT)\n",
    "\n",
    "### Video\n",
    "\n",
    "link to video\n",
    "\n",
    "### Pull Requests \n",
    "\n",
    "link to pull requests\n",
    "\n",
    "\n",
    "\n",
    "\n"
   ]
  }
 ],
 "metadata": {
  "language_info": {
   "name": "python"
  },
  "orig_nbformat": 4
 },
 "nbformat": 4,
 "nbformat_minor": 2
}
